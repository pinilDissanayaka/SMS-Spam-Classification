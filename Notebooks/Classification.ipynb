{
 "cells": [
  {
   "cell_type": "code",
   "execution_count": null,
   "id": "a413ba2c",
   "metadata": {},
   "outputs": [],
   "source": [
    "import numpy as np\n",
    "import pandas as pd\n",
    "import matplotlib.pyplot as plt\n",
    "import seaborn as sns\n",
    "import re\n",
    "import nltk\n",
    "from sklearn.model_selection import train_test_split\n",
    "from nltk.corpus import stopwords\n",
    "from nltk.stem.porter import PorterStemmer\n",
    "import tensorflow as tf\n",
    "from tensorflow.keras.models import Sequential\n",
    "from tensorflow.keras.layers import Dense, Dropout, Embedding, LSTM\n",
    "from tensorflow.keras.activations import relu\n",
    "from tensorflow.keras.metrics import binary_crossentropy\n",
    "from tensorflow.keras.preprocessing.text import one_hot\n",
    "from tensorflow.keras.preprocessing.sequence import pad_sequences \n",
    "\n",
    "import warnings\n",
    "warnings.filterwarnings(action = 'ignore')"
   ]
  },
  {
   "cell_type": "code",
   "execution_count": null,
   "id": "a77cc3d2",
   "metadata": {},
   "outputs": [],
   "source": [
    "df = pd.read_csv('../Data/spam.csv', encoding= 'latin-1')"
   ]
  },
  {
   "cell_type": "code",
   "execution_count": null,
   "id": "9e824db9",
   "metadata": {},
   "outputs": [],
   "source": [
    "df.head()"
   ]
  },
  {
   "cell_type": "code",
   "execution_count": null,
   "id": "21c4a620",
   "metadata": {},
   "outputs": [],
   "source": [
    "df.tail()"
   ]
  },
  {
   "cell_type": "code",
   "execution_count": null,
   "id": "7e5d00f5",
   "metadata": {},
   "outputs": [],
   "source": [
    "df.shape"
   ]
  },
  {
   "cell_type": "code",
   "execution_count": null,
   "id": "9488fe7d",
   "metadata": {},
   "outputs": [],
   "source": [
    "df.info()"
   ]
  },
  {
   "cell_type": "code",
   "execution_count": null,
   "id": "d6f04489",
   "metadata": {},
   "outputs": [],
   "source": [
    "df[~df['Unnamed: 2'].isnull()]['Unnamed: 2']"
   ]
  },
  {
   "cell_type": "code",
   "execution_count": null,
   "id": "1dcedf94",
   "metadata": {},
   "outputs": [],
   "source": [
    "df[~df['Unnamed: 2'].isnull()]['v2'] "
   ]
  },
  {
   "cell_type": "code",
   "execution_count": null,
   "id": "4417e70a",
   "metadata": {},
   "outputs": [],
   "source": [
    "df.isnull().sum()"
   ]
  },
  {
   "cell_type": "code",
   "execution_count": null,
   "id": "b41c696a",
   "metadata": {},
   "outputs": [],
   "source": [
    "df['v2'] = np.where((df['Unnamed: 2'].isnull()), df['v2'], (df['v2'] + ' ' + df['Unnamed: 2']))"
   ]
  },
  {
   "cell_type": "code",
   "execution_count": null,
   "id": "8a5bf13a",
   "metadata": {},
   "outputs": [],
   "source": [
    "df['v2'] = np.where((df['Unnamed: 3'].isnull()), df['v2'], (df['v2'] + ' ' + df['Unnamed: 3']))"
   ]
  },
  {
   "cell_type": "code",
   "execution_count": null,
   "id": "50a9cc0c",
   "metadata": {},
   "outputs": [],
   "source": [
    "df['v2'] = np.where((df['Unnamed: 4'].isnull()), df['v2'], (df['v2'] + ' ' + df['Unnamed: 4']))"
   ]
  },
  {
   "cell_type": "code",
   "execution_count": null,
   "id": "74fbc5e7",
   "metadata": {
    "scrolled": true
   },
   "outputs": [],
   "source": [
    "df.iloc[95, 1]"
   ]
  },
  {
   "cell_type": "code",
   "execution_count": null,
   "id": "e48ae08f",
   "metadata": {},
   "outputs": [],
   "source": [
    "df.isnull().sum()"
   ]
  },
  {
   "cell_type": "code",
   "execution_count": null,
   "id": "633d3935",
   "metadata": {},
   "outputs": [],
   "source": [
    "df.drop(columns=['Unnamed: 2', 'Unnamed: 3', 'Unnamed: 4'], inplace= True, axis = 1)"
   ]
  },
  {
   "cell_type": "code",
   "execution_count": null,
   "id": "f48f400a",
   "metadata": {
    "scrolled": true
   },
   "outputs": [],
   "source": [
    "df.isnull().sum()"
   ]
  },
  {
   "cell_type": "code",
   "execution_count": null,
   "id": "764dc7e7",
   "metadata": {},
   "outputs": [],
   "source": [
    "df['v1'].value_counts()"
   ]
  },
  {
   "cell_type": "code",
   "execution_count": null,
   "id": "15d9c66c",
   "metadata": {},
   "outputs": [],
   "source": [
    "sns.set()\n",
    "plt.figure(figsize = (6, 6))\n",
    "plt.pie(x = (df['v1'].value_counts().values), labels= (df['v1'].value_counts().keys()), autopct= '%1.1f%%')\n",
    "plt.show()"
   ]
  },
  {
   "cell_type": "code",
   "execution_count": null,
   "id": "6bc7eb45",
   "metadata": {},
   "outputs": [],
   "source": [
    "X = df['v2']\n",
    "y = df['v1']"
   ]
  },
  {
   "cell_type": "code",
   "execution_count": null,
   "id": "4c50fdbb",
   "metadata": {},
   "outputs": [],
   "source": [
    "X"
   ]
  },
  {
   "cell_type": "code",
   "execution_count": null,
   "id": "a31a1a50",
   "metadata": {},
   "outputs": [],
   "source": [
    "y"
   ]
  },
  {
   "cell_type": "code",
   "execution_count": null,
   "id": "2c1f73a3",
   "metadata": {},
   "outputs": [],
   "source": [
    "X.shape"
   ]
  },
  {
   "cell_type": "code",
   "execution_count": null,
   "id": "eff32af4",
   "metadata": {},
   "outputs": [],
   "source": [
    "y.shape"
   ]
  },
  {
   "cell_type": "code",
   "execution_count": null,
   "id": "84e46c0d",
   "metadata": {},
   "outputs": [],
   "source": [
    "X = X.values.flatten()"
   ]
  },
  {
   "cell_type": "code",
   "execution_count": null,
   "id": "bd49ce35",
   "metadata": {
    "scrolled": true
   },
   "outputs": [],
   "source": [
    "X[1]"
   ]
  },
  {
   "cell_type": "code",
   "execution_count": null,
   "id": "099a48b2",
   "metadata": {},
   "outputs": [],
   "source": [
    "print(list( stopwords.words('english')))"
   ]
  },
  {
   "cell_type": "code",
   "execution_count": null,
   "id": "88f0d12d",
   "metadata": {},
   "outputs": [],
   "source": [
    "ps = PorterStemmer()\n",
    "\n",
    "corpus = []\n",
    "\n",
    "for i in range(0, len(X)):\n",
    "    text = re.sub('f[a-zA-Z]', ' ', X[i])\n",
    "    text = text.lower()\n",
    "    text = text.split()\n",
    "    \n",
    "    text = [ps.stem(j) for j in text if not j in stopwords.words('english')]\n",
    "    text = ' '.join(text)\n",
    "    corpus.append(text)\n",
    "    print(f\"Status : {i}\")"
   ]
  },
  {
   "cell_type": "code",
   "execution_count": null,
   "id": "f0551315",
   "metadata": {},
   "outputs": [],
   "source": [
    "corpus"
   ]
  },
  {
   "cell_type": "code",
   "execution_count": null,
   "id": "bb280909",
   "metadata": {},
   "outputs": [],
   "source": [
    "voc_size = 5000\n",
    "one_hot_r = [one_hot(i, n = voc_size) for i in corpus]\n",
    "one_hot_r"
   ]
  },
  {
   "cell_type": "code",
   "execution_count": null,
   "id": "22264200",
   "metadata": {},
   "outputs": [],
   "source": [
    "max_len = 0\n",
    "leng = []\n",
    "\n",
    "for i in one_hot_r:\n",
    "    leng.append(len(i))\n",
    "\n",
    "max_len = max(leng)\n",
    "max_len"
   ]
  },
  {
   "cell_type": "code",
   "execution_count": null,
   "id": "020392b5",
   "metadata": {},
   "outputs": [],
   "source": [
    "out_size = len(y.unique())\n",
    "out_size"
   ]
  },
  {
   "cell_type": "code",
   "execution_count": null,
   "id": "aa27380c",
   "metadata": {},
   "outputs": [],
   "source": [
    "X = np.array(one_hot_r)\n",
    "y = y"
   ]
  },
  {
   "cell_type": "code",
   "execution_count": null,
   "id": "624982e0",
   "metadata": {},
   "outputs": [],
   "source": [
    "X_train, X_test, y_train, y_test = train_test_split(X, y, train_size= 0.8, random_state= 6, shuffle= True)"
   ]
  },
  {
   "cell_type": "code",
   "execution_count": null,
   "id": "09fa4269",
   "metadata": {},
   "outputs": [],
   "source": [
    "X_train.dtype"
   ]
  },
  {
   "cell_type": "code",
   "execution_count": null,
   "id": "4ee04856",
   "metadata": {},
   "outputs": [],
   "source": [
    "model = Sequential([\n",
    "    Embedding(input_dim=voc_size, output_dim=50, input_length= max_len),\n",
    "    LSTM(units= 128),\n",
    "    Dense(units= out_size, activation= 'relu')\n",
    "])\n",
    "\n",
    "model.summary()"
   ]
  },
  {
   "cell_type": "code",
   "execution_count": null,
   "id": "ba60312c",
   "metadata": {},
   "outputs": [],
   "source": [
    "model.compile(optimizer= 'adam', \n",
    "             loss = binary_crossentropy,\n",
    "             metrics= ['acc'])"
   ]
  },
  {
   "cell_type": "code",
   "execution_count": null,
   "id": "c17fd2d4",
   "metadata": {},
   "outputs": [],
   "source": [
    "model.fit(X_train, y_train, batch_size= 80, verbose= 1, epochs = 5)"
   ]
  },
  {
   "cell_type": "code",
   "execution_count": null,
   "id": "0706d766",
   "metadata": {},
   "outputs": [],
   "source": []
  }
 ],
 "metadata": {
  "kernelspec": {
   "display_name": "Python 3 (ipykernel)",
   "language": "python",
   "name": "python3"
  },
  "language_info": {
   "codemirror_mode": {
    "name": "ipython",
    "version": 3
   },
   "file_extension": ".py",
   "mimetype": "text/x-python",
   "name": "python",
   "nbconvert_exporter": "python",
   "pygments_lexer": "ipython3",
   "version": "3.10.9"
  }
 },
 "nbformat": 4,
 "nbformat_minor": 5
}
